{
 "cells": [
  {
   "cell_type": "code",
   "execution_count": 1,
   "id": "b71751d6",
   "metadata": {},
   "outputs": [],
   "source": [
    "import numpy as np\n",
    "import pandas\n",
    "import matplotlib.pyplot as plt\n",
    "import sklearn.linear_model\n",
    "import scipy.stats"
   ]
  },
  {
   "cell_type": "code",
   "execution_count": 2,
   "id": "300a9b39",
   "metadata": {},
   "outputs": [
    {
     "data": {
      "image/png": "[encoded data removed]",
      "text/plain": [
       "<Figure size 1080x122.4 with 1 Axes>"
      ]
     },
     "metadata": {
      "needs_background": "light"
     },
     "output_type": "display_data"
    }
   ],
   "source": [
    "# Load the dataset\n",
    "url = 'https://www.cl.cam.ac.uk/teaching/2223/DataSci/data/climate.csv'\n",
    "climate = pandas.read_csv(url)\n",
    "climate = climate.loc[(climate.station=='Cambridge') & (climate.yyyy>=1985)].copy()\n",
    "t = climate.yyyy + (climate.mm-1)/12\n",
    "temp = (climate.tmin + climate.tmax)/2\n",
    "\n",
    "fig,ax = plt.subplots(figsize=(15,1.7))\n",
    "ax.scatter(t, temp, s=15, alpha=0.7)\n",
    "ax.set_xlim([1984, 2025])\n",
    "ax.set_ylabel('mean temp')\n",
    "plt.show()"
   ]
  },
  {
   "cell_type": "markdown",
   "id": "16d81ad9",
   "metadata": {},
   "source": [
    "In line with the Bayesianist approach, I treat each of the unknown variables - $\\alpha$, $\\beta_1$, $\\beta_2$, $\\gamma$, and $\\sigma$ - as a random variable. Let's call the random variables $A, B1, B2, C, S$ respectively. \n",
    "\n",
    "The challenge is now inventing prior distributions for each of these variables.\n",
    "\n",
    "_Digression (I'm thinking aloud here, so the prose is somewhat narrative):_ I think what's interesting is that this analysis assumes the linear model is correct. But all models are incorrect. Perhaps you can use the Bayesianist philosophy to choose a model. Let's say you have n models. You can invent a categorical random variable that describes your beliefs about how correct the models are. You can then use computational bayes to compute the posterior and then maybe pick the mode. Or maybe it'd lead you to some combination of the models, like Question 6 of example sheet 2. I wonder how this would fit in with parameter \"fitting\". Since you'd need the parameters to define the model, you'd probably do that first. \n",
    "\n",
    "Back to the problem. \n",
    "\n",
    "Assume this linear model is correct, and all that is unknown are the parameters. Eyeballing the data, it looks like the average temperature in 2000 is around 10 degrees. I'll pick a normal distrbution centred at 10 degrees, with a standard deviation of 1 (somewhat guesswork). The amplitude of the sinusoid is roughly 10, so I'm going to pick uniform distributions for $\\beta_1$ and $\\beta_2$ between -12 and 12 (to give myself some room for error). \n",
    "\n",
    "For $\\gamma$, looking back at the code for challenge one and the slides, it seems like the average increase between 1960 and 2020 is around 0.03 degrees a year. This is obviously subjective, but my hypothesis is that the probability is not uniform, but the likelihood of temperature rise being 0.03 is greater than say -5. I'll choose a normal distribution centred at 0.03. As for the standard deviation, I'm bearing in mind that most of the probability mass will be distributed within 3 standard deviations of the mean. I don't want to rule out the possibility of no warming, or cooling, so standard deviation should be greater than 0.01. I'm going to pick 0.015 somewhat arbitrarily. \n",
    "\n",
    "For $\\sigma$, I'm going to model it using a gamma distribution parameterised by $k=9$ and $\\lambda=2$. These are somewhat arbitrary, but they reflect my suspicion that the standard deviation is around 5 (and can't be negative). However, I'm not sure, so I make lambda somewhat small so the variance is high enough to capture my uncertainty."
   ]
  },
  {
   "cell_type": "code",
   "execution_count": 244,
   "id": "5713c771",
   "metadata": {},
   "outputs": [],
   "source": [
    "size = 30000\n",
    "A = np.random.normal(loc=10, scale=0.5, size=size)\n",
    "C = np.random.normal(loc=0.03, scale=0.00015, size=size)"
   ]
  },
  {
   "cell_type": "code",
   "execution_count": 245,
   "id": "b7a922e8",
   "metadata": {},
   "outputs": [],
   "source": [
    "S = np.random.normal(loc = 9, scale = 0.05, size=size)\n",
    "B1 = scipy.stats.truncnorm.rvs(a=-12, b=12, loc=0, scale=1, size=size)\n",
    "B2 = scipy.stats.truncnorm.rvs(a=-2/0.1, b=22/0.1, loc=-10, scale=0.1, size=size)"
   ]
  },
  {
   "cell_type": "code",
   "execution_count": 246,
   "id": "d460e48e",
   "metadata": {},
   "outputs": [],
   "source": [
    "def logpr(temp, alpha, beta1, beta2, gamma, sigma):\n",
    "    # temp is a vector, the parameters are scalars, and the function must return a scalar\n",
    "    t = climate['t']\n",
    "    loc = alpha+beta1*np.sin(2*np.pi*t) + beta2*np.cos(2*np.pi*t) + gamma*(t-2000)\n",
    "    conditional = scipy.stats.norm.logpdf(temp, loc=loc, scale=sigma)\n",
    "    importanceCorrection = -scipy.stats.truncnorm.logpdf(beta1, a=-12, b=12, loc=0, scale=1)\n",
    "    importanceCorrection -= scipy.stats.gamma.logpdf(sigma, a=9, scale = 0.5)\n",
    "    importanceCorrection -= scipy.stats.truncnorm.logpdf(beta2, a=-2/0.1, b=22/0.1, loc=-10, scale=0.1)\n",
    "    importanceCorrection -= scipy.stats.norm.logpdf(sigma, loc=10, scale=1)\n",
    "    importanceCorrection += scipy.stats.uniform.logpdf(beta1, loc=-12, scale=24)\n",
    "    importanceCorrection += scipy.stats.uniform.logpdf(beta2, loc=-12, scale=24)\n",
    "    importanceCorrection += scipy.stats.norm.logpdf(sigma, loc=9, scale=0.05)\n",
    "    importanceCorrection += scipy.stats.norm.logpdf(sigma, loc=10, scale=1)\n",
    "    r = np.sum(conditional) + importanceCorrection\n",
    "    return r"
   ]
  },
  {
   "cell_type": "code",
   "execution_count": 247,
   "id": "245184a3",
   "metadata": {},
   "outputs": [],
   "source": [
    "logw = np.array([logpr(climate['temp'], alpha,beta1,beta2,gamma,sigma) for (alpha,beta1,beta2,gamma,sigma) in zip(A,B1,B2,C,S)])"
   ]
  },
  {
   "cell_type": "code",
   "execution_count": 248,
   "id": "1fb094d3",
   "metadata": {},
   "outputs": [],
   "source": [
    "logw = logw - max(logw)\n",
    "w = np.exp(logw)\n",
    "w = w / np.sum(w)"
   ]
  },
  {
   "cell_type": "code",
   "execution_count": 249,
   "id": "10a3db5e",
   "metadata": {},
   "outputs": [
    {
     "data": {
      "image/png": "[encoded data removed]",
      "text/plain": [
       "<Figure size 432x288 with 1 Axes>"
      ]
     },
     "metadata": {
      "needs_background": "light"
     },
     "output_type": "display_data"
    }
   ],
   "source": [
    "fig,ax = plt.subplots()\n",
    "ax.hist(C*100, weights=w, density=True, bins=np.linspace(2.9,3,100))\n",
    "\n",
    "# Find a posterior 95% confidence interval using γ_ and w\n",
    "# (see section 7.4 of notes)\n",
    "i = np.argsort(C)\n",
    "C, w = C[i], w[i]\n",
    "F = np.cumsum(w)\n",
    "lo,hi = (C[F<0.025][-1], C[F>0.975][0])\n",
    "\n",
    "ax.axvline(x=lo*100, linestyle='--', color='black')\n",
    "ax.axvline(x=hi*100, linestyle='--', color='black')\n",
    "ax.set_title(f\"Temperature increase ≈ [{lo*100:.6},{hi*100:.6}] °C/century\")\n",
    "\n",
    "plt.show()"
   ]
  },
  {
   "cell_type": "code",
   "execution_count": 250,
   "id": "bf0d7d16",
   "metadata": {},
   "outputs": [
    {
     "data": {
      "text/html": [
       "<div>\n",
       "<style scoped>\n",
       "    .dataframe tbody tr th:only-of-type {\n",
       "        vertical-align: middle;\n",
       "    }\n",
       "\n",
       "    .dataframe tbody tr th {\n",
       "        vertical-align: top;\n",
       "    }\n",
       "\n",
       "    .dataframe thead th {\n",
       "        text-align: right;\n",
       "    }\n",
       "</style>\n",
       "<table border=\"1\" class=\"dataframe\">\n",
       "  <thead>\n",
       "    <tr style=\"text-align: right;\">\n",
       "      <th></th>\n",
       "      <th>w</th>\n",
       "      <th>c</th>\n",
       "      <th>s</th>\n",
       "      <th>a</th>\n",
       "      <th>b1</th>\n",
       "      <th>b2</th>\n",
       "    </tr>\n",
       "  </thead>\n",
       "  <tbody>\n",
       "    <tr>\n",
       "      <th>308</th>\n",
       "      <td>4.145701e-20</td>\n",
       "      <td>0.029652</td>\n",
       "      <td>8.959014</td>\n",
       "      <td>9.472719</td>\n",
       "      <td>-0.876285</td>\n",
       "      <td>-10.016581</td>\n",
       "    </tr>\n",
       "    <tr>\n",
       "      <th>17745</th>\n",
       "      <td>9.164152e-20</td>\n",
       "      <td>0.030033</td>\n",
       "      <td>9.058063</td>\n",
       "      <td>10.655236</td>\n",
       "      <td>-1.207496</td>\n",
       "      <td>-9.941571</td>\n",
       "    </tr>\n",
       "    <tr>\n",
       "      <th>17531</th>\n",
       "      <td>2.979224e-19</td>\n",
       "      <td>0.030031</td>\n",
       "      <td>9.018779</td>\n",
       "      <td>9.565017</td>\n",
       "      <td>-0.238121</td>\n",
       "      <td>-9.968131</td>\n",
       "    </tr>\n",
       "    <tr>\n",
       "      <th>9857</th>\n",
       "      <td>4.362515e-19</td>\n",
       "      <td>0.029932</td>\n",
       "      <td>8.982083</td>\n",
       "      <td>9.861304</td>\n",
       "      <td>-1.197607</td>\n",
       "      <td>-10.050338</td>\n",
       "    </tr>\n",
       "    <tr>\n",
       "      <th>5233</th>\n",
       "      <td>4.142760e-18</td>\n",
       "      <td>0.029859</td>\n",
       "      <td>9.011452</td>\n",
       "      <td>9.465624</td>\n",
       "      <td>-0.603141</td>\n",
       "      <td>-9.999886</td>\n",
       "    </tr>\n",
       "  </tbody>\n",
       "</table>\n",
       "</div>"
      ],
      "text/plain": [
       "                  w         c         s          a        b1         b2\n",
       "308    4.145701e-20  0.029652  8.959014   9.472719 -0.876285 -10.016581\n",
       "17745  9.164152e-20  0.030033  9.058063  10.655236 -1.207496  -9.941571\n",
       "17531  2.979224e-19  0.030031  9.018779   9.565017 -0.238121  -9.968131\n",
       "9857   4.362515e-19  0.029932  8.982083   9.861304 -1.197607 -10.050338\n",
       "5233   4.142760e-18  0.029859  9.011452   9.465624 -0.603141  -9.999886"
      ]
     },
     "execution_count": 250,
     "metadata": {},
     "output_type": "execute_result"
    }
   ],
   "source": [
    "pandas.DataFrame({'w':w, 'c':C, 's':S, 'a':A, 'b1':B1, 'b2':B2}).sort_values('w', ascending=True).iloc[:5]"
   ]
  },
  {
   "cell_type": "code",
   "execution_count": 251,
   "id": "adf6dd71",
   "metadata": {},
   "outputs": [
    {
     "data": {
      "text/html": [
       "<div>\n",
       "<style scoped>\n",
       "    .dataframe tbody tr th:only-of-type {\n",
       "        vertical-align: middle;\n",
       "    }\n",
       "\n",
       "    .dataframe tbody tr th {\n",
       "        vertical-align: top;\n",
       "    }\n",
       "\n",
       "    .dataframe thead th {\n",
       "        text-align: right;\n",
       "    }\n",
       "</style>\n",
       "<table border=\"1\" class=\"dataframe\">\n",
       "  <thead>\n",
       "    <tr style=\"text-align: right;\">\n",
       "      <th></th>\n",
       "      <th>w</th>\n",
       "      <th>c</th>\n",
       "      <th>s</th>\n",
       "      <th>a</th>\n",
       "      <th>b1</th>\n",
       "      <th>b2</th>\n",
       "    </tr>\n",
       "  </thead>\n",
       "  <tbody>\n",
       "    <tr>\n",
       "      <th>11896</th>\n",
       "      <td>0.147571</td>\n",
       "      <td>0.029959</td>\n",
       "      <td>8.992081</td>\n",
       "      <td>9.319977</td>\n",
       "      <td>0.014311</td>\n",
       "      <td>-10.085984</td>\n",
       "    </tr>\n",
       "    <tr>\n",
       "      <th>26589</th>\n",
       "      <td>0.110118</td>\n",
       "      <td>0.030180</td>\n",
       "      <td>8.954927</td>\n",
       "      <td>10.695787</td>\n",
       "      <td>-1.400162</td>\n",
       "      <td>-10.131117</td>\n",
       "    </tr>\n",
       "    <tr>\n",
       "      <th>202</th>\n",
       "      <td>0.108573</td>\n",
       "      <td>0.029630</td>\n",
       "      <td>9.117506</td>\n",
       "      <td>9.293123</td>\n",
       "      <td>-0.131460</td>\n",
       "      <td>-10.002831</td>\n",
       "    </tr>\n",
       "    <tr>\n",
       "      <th>2487</th>\n",
       "      <td>0.040282</td>\n",
       "      <td>0.029789</td>\n",
       "      <td>9.053810</td>\n",
       "      <td>10.361185</td>\n",
       "      <td>-0.174079</td>\n",
       "      <td>-10.155619</td>\n",
       "    </tr>\n",
       "    <tr>\n",
       "      <th>2360</th>\n",
       "      <td>0.035561</td>\n",
       "      <td>0.029785</td>\n",
       "      <td>8.960896</td>\n",
       "      <td>9.453055</td>\n",
       "      <td>0.422085</td>\n",
       "      <td>-10.054121</td>\n",
       "    </tr>\n",
       "  </tbody>\n",
       "</table>\n",
       "</div>"
      ],
      "text/plain": [
       "              w         c         s          a        b1         b2\n",
       "11896  0.147571  0.029959  8.992081   9.319977  0.014311 -10.085984\n",
       "26589  0.110118  0.030180  8.954927  10.695787 -1.400162 -10.131117\n",
       "202    0.108573  0.029630  9.117506   9.293123 -0.131460 -10.002831\n",
       "2487   0.040282  0.029789  9.053810  10.361185 -0.174079 -10.155619\n",
       "2360   0.035561  0.029785  8.960896   9.453055  0.422085 -10.054121"
      ]
     },
     "execution_count": 251,
     "metadata": {},
     "output_type": "execute_result"
    }
   ],
   "source": [
    "pandas.DataFrame({'w':w, 'c':C, 's':S, 'a':A, 'b1':B1, 'b2':B2}).sort_values('w', ascending=False).iloc[:5]"
   ]
  },
  {
   "cell_type": "code",
   "execution_count": null,
   "id": "640901c3",
   "metadata": {},
   "outputs": [],
   "source": [
    "ax"
   ]
  },
  {
   "cell_type": "code",
   "execution_count": 212,
   "id": "d37ca56b",
   "metadata": {},
   "outputs": [
    {
     "name": "stdout",
     "output_type": "stream",
     "text": [
      "[-1204.08618792 -1262.60069584 -1236.87903099 ... -1216.81360158\n",
      " -1234.6238535  -1209.48262497]\n",
      "-1156.0253875266171\n",
      "[7.43398052e-41 5.61733451e-25 1.75378131e-42 ... 2.32173771e-42\n",
      " 6.35073265e-19 1.49631726e-49]\n"
     ]
    }
   ],
   "source": [
    "print(logw)\n",
    "print(max(logw))\n",
    "print(w)"
   ]
  },
  {
   "cell_type": "markdown",
   "id": "ba7df1d9",
   "metadata": {},
   "source": []
  }
 ],
 "metadata": {
  "kernelspec": {
   "display_name": "Python 3 (ipykernel)",
   "language": "python",
   "name": "python3"
  },
  "language_info": {
   "codemirror_mode": {
    "name": "ipython",
    "version": 3
   },
   "file_extension": ".py",
   "mimetype": "text/x-python",
   "name": "python",
   "nbconvert_exporter": "python",
   "pygments_lexer": "ipython3",
   "version": "3.9.12"
  }
 },
 "nbformat": 4,
 "nbformat_minor": 5
}
