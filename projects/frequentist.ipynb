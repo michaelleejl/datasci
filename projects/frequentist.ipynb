{
 "cells": [
  {
   "cell_type": "code",
   "execution_count": 99,
   "id": "0c63ec6a",
   "metadata": {},
   "outputs": [
    {
     "name": "stdout",
     "output_type": "stream",
     "text": [
      "10.514034451752183 -1.107716558433125 -6.560983691731712 0.035071793932324624 2.100057727817012\n"
     ]
    }
   ],
   "source": [
    "climate['t'] = climate.yyyy + (climate.mm-1)/12    # timestamp in years\n",
    "climate['temp'] = (climate.tmin + climate.tmax)/2  # monthly avg temp\n",
    "df1 = climate.loc[(climate.station == 'Cambridge') & (climate.yyyy>=1980)]\n",
    "def temp_inc(t, temp):\n",
    "    model = sklearn.linear_model.LinearRegression()\n",
    "    model.fit(np.column_stack([np.sin(2*π*t), np.cos(2*π*t), t-2000]), temp)\n",
    "    return model\n",
    "\n",
    "model = temp_inc(df1.t, df1.temp)\n",
    "\n",
    "alpha = model.intercept_\n",
    "beta1, beta2, gamma = model.coef_\n",
    "\n",
    "sigma = mean_squared_error(model.predict(np.column_stack([np.sin(2*π*df1.t), np.cos(2*π*df1.t), df1.t-2000])), df1.temp)\n",
    "\n",
    "print(alpha, beta1, beta2, gamma, sigma)"
   ]
  },
  {
   "cell_type": "code",
   "execution_count": 100,
   "id": "ab88d2b3",
   "metadata": {},
   "outputs": [],
   "source": [
    "import numpy as np\n",
    "import pandas\n",
    "import matplotlib.pyplot as plt\n",
    "import sklearn.linear_model\n",
    "π = np.pi\n",
    "from sklearn.metrics import mean_squared_error"
   ]
  },
  {
   "cell_type": "code",
   "execution_count": 101,
   "id": "3cf3275d",
   "metadata": {},
   "outputs": [],
   "source": [
    "def tempGen(t):\n",
    "    return np.random.normal(loc=model.predict(np.column_stack([np.sin(2*π*t), np.cos(2*π*t), t-2000])), scale=sigma)"
   ]
  },
  {
   "cell_type": "code",
   "execution_count": 98,
   "id": "8df088e0",
   "metadata": {},
   "outputs": [
    {
     "name": "stdout",
     "output_type": "stream",
     "text": [
      "0.023248998597875527 0.04698327009036507\n"
     ]
    }
   ],
   "source": [
    "tnew = np.linspace(1985, 2022, 1000)\n",
    "gentemps = [[tempGen(t) for t in tnew] for _ in range(1000)]\n",
    "def temp_inc_only(time, synthtemp):\n",
    "    m = sklearn.linear_model.LinearRegression()\n",
    "    m.fit(np.column_stack([np.sin(2*π*time), np.cos(2*π*time), time-2000]), synthtemp)\n",
    "    return m.coef_[0][2]\n",
    "\n",
    "tempincs = [temp_inc_only(tnew, gentemp) for gentemp in gentemps]\n",
    "\n",
    "lo , hi = np.quantile(tempincs, [0.025 , 0.975])\n",
    "print(lo, hi)"
   ]
  },
  {
   "cell_type": "code",
   "execution_count": 1,
   "id": "280f5113",
   "metadata": {},
   "outputs": [],
   "source": [
    "import numpy as np\n",
    "import pandas\n",
    "import requests, requests_cache\n",
    "import urllib\n",
    "import io, re\n",
    "import lxml.html\n",
    "import numbers\n",
    "requests_cache.install_cache(backend='memory')"
   ]
  },
  {
   "cell_type": "code",
   "execution_count": 2,
   "id": "12887677",
   "metadata": {},
   "outputs": [],
   "source": [
    "# Fetch a list of all measurement stations\n",
    "stations_url = 'https://www.metoffice.gov.uk/research/climate/maps-and-data/historic-station-data'\n",
    "stations = requests.get(stations_url).content\n",
    "stations = lxml.html.fromstring(stations)\n",
    "stations = stations.xpath(\"//h2[contains(text(),'List of all the historic stations')]/following-sibling::table/tbody/tr\")\n",
    "stations = [tr.xpath('./td/a/@href')[0] for tr in stations]"
   ]
  },
  {
   "cell_type": "code",
   "execution_count": 3,
   "id": "3f4434fb",
   "metadata": {},
   "outputs": [
    {
     "name": "stderr",
     "output_type": "stream",
     "text": [
      "/var/folders/ll/mm0mcnc52699y4zxxcgq32sw0000gn/T/ipykernel_77216/1127624974.py:47: DeprecationWarning: `np.int` is a deprecated alias for the builtin `int`. To silence this warning, use `int` by itself. Doing this will not modify any behavior and is safe. When replacing `np.int`, you may wish to use e.g. `np.int64` or `np.int32` to specify the precision. If you wish to review your current use, check the release note link for additional information.\n",
      "Deprecated in NumPy 1.20; for more details and guidance: https://numpy.org/devdocs/release/1.20.0-notes.html#deprecations\n",
      "  df['yyyy'] = np.array([clean_num(x) for x in df['yyyy']]).astype(np.int)\n",
      "/var/folders/ll/mm0mcnc52699y4zxxcgq32sw0000gn/T/ipykernel_77216/1127624974.py:48: DeprecationWarning: `np.int` is a deprecated alias for the builtin `int`. To silence this warning, use `int` by itself. Doing this will not modify any behavior and is safe. When replacing `np.int`, you may wish to use e.g. `np.int64` or `np.int32` to specify the precision. If you wish to review your current use, check the release note link for additional information.\n",
      "Deprecated in NumPy 1.20; for more details and guidance: https://numpy.org/devdocs/release/1.20.0-notes.html#deprecations\n",
      "  df['mm'] = np.array([clean_num(x) for x in df['mm']]).astype(np.int)\n"
     ]
    }
   ],
   "source": [
    "# Fetch historical data from each station\n",
    "def parse_station_data(txt, i=None):\n",
    "    ls = txt.splitlines()\n",
    "    g = (i for i,l in enumerate(ls) if ' '.join(l.split()).startswith('yyyy mm tmax tmin'))\n",
    "    header_line = next(g)\n",
    "    d = '\\n'.join([ls[header_line]+' status X1 X2 X3 X4 X5 X6'] + ls[(header_line+2):])\n",
    "    df = pandas.read_csv(io.StringIO(d), delim_whitespace=True)\n",
    "    df['station'] = [ls[0]] * len(df)\n",
    "    s = ls[1] + ' ' + ls[2]\n",
    "    m = re.search(r'Lat ([-\\d.]+) Lon ([-\\d.]+),? ([-\\d.]+)\\s?m.* amsl', s)\n",
    "    assert m is not None, f\"Can't read details for {i}: {s}\"\n",
    "    df['lat'] = [m.group(1)] * len(df)\n",
    "    df['lng'] = [m.group(2)] * len(df)\n",
    "    df['height'] = [m.group(3)] * len(df)\n",
    "    return df\n",
    "df = [requests.get(station_url).content.decode('utf8') for station_url in stations]\n",
    "df = [parse_station_data(txt,i) for i,txt in enumerate(df)]\n",
    "\n",
    "# Concatenate all the station together\n",
    "df = pandas.concat(df, ignore_index=True)\n",
    "# Sometimes there are comment rows, and df.yyy is string\n",
    "# Sometimes there are no comment rows, and df.yyy is int\n",
    "# This code removes any comment rows, safely in either case\n",
    "df = df.loc[df.yyyy.astype(str) != 'Site']\n",
    "\n",
    "# Delete some dummy columns (which were only there for rows with comments)\n",
    "for i in range(1,7): del df[f'X{i}']\n",
    "\n",
    "# Normalize some long-winded station names\n",
    "for old,new in [('Heathrow (London Airport)','Heathrow'), \n",
    "                ('Lowestoft / Lowestoft Monckton Ave from Sept 2007','Lowestoft'),\n",
    "                ('Whitby Coastguard / Whitby(from 2000 and $sunshine)','Whitby'),\n",
    "                ('Nairn   there is a site change in 1998','Nairn'),\n",
    "                ('Cambridge NIAB','Cambridge')]:\n",
    "    df['station'] = np.where(df['station']==old, new, df['station'])\n",
    "    \n",
    "# Tidy the numerical columns, to only have numbers or NaN\n",
    "def clean_num(x):\n",
    "    if isinstance(x, numbers.Number):\n",
    "        return x\n",
    "    elif x == '---':\n",
    "        return np.nan\n",
    "    else:\n",
    "        return float(re.match(r'([-\\d.]+)', x).group(1))\n",
    "df['tmin'] = np.array([clean_num(x) for x in df['tmin']])\n",
    "df['tmax'] = np.array([clean_num(x) for x in df['tmax']])\n",
    "df['yyyy'] = np.array([clean_num(x) for x in df['yyyy']]).astype(np.int)\n",
    "df['mm'] = np.array([clean_num(x) for x in df['mm']]).astype(np.int)\n",
    "\n",
    "climate = df"
   ]
  }
 ],
 "metadata": {
  "kernelspec": {
   "display_name": "Python 3 (ipykernel)",
   "language": "python",
   "name": "python3"
  },
  "language_info": {
   "codemirror_mode": {
    "name": "ipython",
    "version": 3
   },
   "file_extension": ".py",
   "mimetype": "text/x-python",
   "name": "python",
   "nbconvert_exporter": "python",
   "pygments_lexer": "ipython3",
   "version": "3.9.12"
  }
 },
 "nbformat": 4,
 "nbformat_minor": 5
}
